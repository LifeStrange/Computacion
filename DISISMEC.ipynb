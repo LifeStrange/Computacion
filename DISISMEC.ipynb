{
 "cells": [
  {
   "cell_type": "code",
   "execution_count": 49,
   "metadata": {},
   "outputs": [
    {
     "name": "stdout",
     "output_type": "stream",
     "text": [
      "0.0 -6.999999999568463e-05\n"
     ]
    },
    {
     "data": {
      "image/png": "[encoded data removed]",
      "text/plain": [
       "<Figure size 432x288 with 1 Axes>"
      ]
     },
     "metadata": {
      "needs_background": "light"
     },
     "output_type": "display_data"
    }
   ],
   "source": [
    "import math as mt\n",
    "import numpy as np\n",
    "import matplotlib.pyplot as plt\n",
    "import scipy.interpolate as lp\n",
    "\n",
    "def pos(x,l):\n",
    "    if x-l<0:\n",
    "        return 0\n",
    "    else:\n",
    "        return 1\n",
    "    \n",
    "x =  np.arange(0,1425.05,0.05)\n",
    "Fc = np.zeros(len(x))\n",
    "\n",
    "for x1 in range(0,len(x),1):\n",
    "    x2 = x[x1]\n",
    "    Fc[x1] = 0*pos(x2,0)-1.3239*pos(x2,70)-4.70719*pos(x2,238.25)+20.619*pos(x2,451.5)-0.89241*pos(x2,600)-58.6270*pos(x2,745.5)+65.7732*pos(x2,939.5)-20.5966*pos(x2,1130.5)-0.24517*pos(x2,1392.5)\n",
    "\n",
    "plt.figure()\n",
    "plt.plot(x,Fc)\n",
    "print(Fc[0],Fc[len(x)-1])"
   ]
  },
  {
   "cell_type": "code",
   "execution_count": null,
   "metadata": {},
   "outputs": [],
   "source": []
  }
 ],
 "metadata": {
  "kernelspec": {
   "display_name": "Python 3",
   "language": "python",
   "name": "python3"
  },
  "language_info": {
   "codemirror_mode": {
    "name": "ipython",
    "version": 3
   },
   "file_extension": ".py",
   "mimetype": "text/x-python",
   "name": "python",
   "nbconvert_exporter": "python",
   "pygments_lexer": "ipython3",
   "version": "3.7.8"
  }
 },
 "nbformat": 4,
 "nbformat_minor": 4
}
