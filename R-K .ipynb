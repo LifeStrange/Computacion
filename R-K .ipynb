{
 "cells": [
  {
   "cell_type": "code",
   "execution_count": 1,
   "metadata": {},
   "outputs": [
    {
     "name": "stdout",
     "output_type": "stream",
     "text": [
      "0.621214770406143\n"
     ]
    },
    {
     "data": {
      "text/plain": [
       "[<matplotlib.lines.Line2D at 0x7f17d4895358>]"
      ]
     },
     "execution_count": 1,
     "metadata": {},
     "output_type": "execute_result"
    }
   ],
   "source": [
    "# R-K 4to orden\n",
    "import numpy as np \n",
    "import matplotlib.pyplot as plt\n",
    "\n",
    "def df(y,t):\n",
    "    return (-2*t*y)/((t**2)+1)\n",
    "def f(t):\n",
    "    return 10/((t**2)+1)\n",
    "\n",
    "t0 = 3\n",
    "tf = 5\n",
    "h = 0.1\n",
    "dy0 = 1 \n",
    "T = np.arange(t0,tf,h)\n",
    "RK = np.zeros(len(T))\n",
    "RK[0] = 1\n",
    "y = 1\n",
    "t = t0\n",
    "z = 1\n",
    "error = 0\n",
    "\n",
    "while 1:\n",
    "    if z >= len(T):\n",
    "        break\n",
    "    \n",
    "    k1 = df(y,t)\n",
    "    k2 = df(y+0.5*h*k1,t+0.5*h)\n",
    "    k3 = df(y+0.5*h*k2,t+0.5*h)\n",
    "    k4 = df(y+h*k3,t)\n",
    "    dy = y+((h/6)*(k1+2*k2+2*k3+k4))\n",
    "    error += abs(f(t)-dy)\n",
    "    RK[z] = dy \n",
    "    t = t+h\n",
    "    dy0 = dy\n",
    "    y = dy\n",
    "    z +=1\n",
    "\n",
    "print(error)\n",
    "plt.figure()\n",
    "plt.plot(T,f(T),'b')\n",
    "plt.plot(T,RK,'r')"
   ]
  },
  {
   "cell_type": "code",
   "execution_count": null,
   "metadata": {},
   "outputs": [],
   "source": []
  }
 ],
 "metadata": {
  "kernelspec": {
   "display_name": "Python 3",
   "language": "python",
   "name": "python3"
  },
  "language_info": {
   "codemirror_mode": {
    "name": "ipython",
    "version": 3
   },
   "file_extension": ".py",
   "mimetype": "text/x-python",
   "name": "python",
   "nbconvert_exporter": "python",
   "pygments_lexer": "ipython3",
   "version": "3.7.3"
  }
 },
 "nbformat": 4,
 "nbformat_minor": 2
}
