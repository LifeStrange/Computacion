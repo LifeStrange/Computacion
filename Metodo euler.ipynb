{
 "cells": [
  {
   "cell_type": "code",
   "execution_count": 20,
   "metadata": {},
   "outputs": [
    {
     "data": {
      "text/plain": [
       "[<matplotlib.lines.Line2D at 0x7fcc7ec8c390>]"
      ]
     },
     "execution_count": 20,
     "metadata": {},
     "output_type": "execute_result"
    },
    {
     "data": {
      "image/png": "[encoded data removed]",
      "text/plain": [
       "<Figure size 432x288 with 1 Axes>"
      ]
     },
     "metadata": {
      "needs_background": "light"
     },
     "output_type": "display_data"
    }
   ],
   "source": [
    "# Método de Euler - Hacia adelante\n",
    "import numpy as np \n",
    "import matplotlib.pyplot as plt\n",
    "\n",
    "def df(y,t):\n",
    "    return (-2*t*y)/((t**2)+1)\n",
    "def f(t):\n",
    "    return 10/((t**2)+1)\n",
    "\n",
    "t0 = 3\n",
    "tf = 5\n",
    "h = 0.1\n",
    "dy0 = 1 \n",
    "T = np.arange(t0,tf,h)\n",
    "Yeuler = np.zeros(len(T))\n",
    "Yeuler[0] = 1\n",
    "YeulerAtras = np.zeros(len(T))\n",
    "YeulerAtras[0] = 1\n",
    "y = 1\n",
    "t = t0\n",
    "t2 = t0\n",
    "z = 1\n",
    "while 1:\n",
    "    if z >= len(T):\n",
    "        break\n",
    "    dy2 = dy0/(1+((2*h*(t2+h))/(((t2+h)**2)+1)))\n",
    "    YeulerAtras[z] = dy2\n",
    "    dy = dy0 + h*df(y,t)\n",
    "    Yeuler[z] = dy \n",
    "    t2 = t2+h\n",
    "    t = t+h\n",
    "    dy0 = dy\n",
    "    y = dy\n",
    "    z +=1\n",
    "\n",
    "plt.figure()\n",
    "plt.plot(T,f(T))\n",
    "plt.plot(T,Yeuler,'r')\n",
    "plt.plot(T,YeulerAtras,'y')"
   ]
  },
  {
   "cell_type": "code",
   "execution_count": null,
   "metadata": {},
   "outputs": [],
   "source": [
    "# Método de Euler - Hacia atras\n",
    "import numpy as np \n",
    "import matplotlib.pyplot as plt\n",
    "\n",
    "def df(y,t):\n",
    "    return (-2*t*y)/((t**2)+1)\n",
    "def f(t):\n",
    "    return 10/((t**2)+1)\n",
    "\n",
    "t0 = 3\n",
    "tf = 5\n",
    "h = 0.1\n",
    "dy0 = 1 \n",
    "T = np.arange(t0,tf,h)\n",
    "Yeuler = np.zeros(len(T))\n",
    "Yeuler[0] = 1\n",
    "y = 1\n",
    "t = t0\n",
    "z = 1\n",
    "while 1:\n",
    "    if z >= len(T):\n",
    "        break\n",
    "    dy = dy0/(1+((2*h*(t)/((t1**2)+1)))\n",
    "    YeulerAtras[z] = dy \n",
    "    t = t+h\n",
    "    dy0 = dy\n",
    "    y = dy\n",
    "    z +=1\n",
    "\n",
    "# print(np.size(T))\n",
    "# print(np.size(Yeuler))\n",
    "plt.figure()\n",
    "plt.plot(T,f(T))\n",
    "plt.plot(T,Yeuler,'r')"
   ]
  }
 ],
 "metadata": {
  "kernelspec": {
   "display_name": "Python 3",
   "language": "python",
   "name": "python3"
  },
  "language_info": {
   "codemirror_mode": {
    "name": "ipython",
    "version": 3
   },
   "file_extension": ".py",
   "mimetype": "text/x-python",
   "name": "python",
   "nbconvert_exporter": "python",
   "pygments_lexer": "ipython3",
   "version": "3.7.3"
  }
 },
 "nbformat": 4,
 "nbformat_minor": 2
}
