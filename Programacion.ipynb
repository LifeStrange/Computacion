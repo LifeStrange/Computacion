{
 "cells": [
  {
   "cell_type": "code",
   "execution_count": null,
   "metadata": {},
   "outputs": [],
   "source": [
    "import numpy as np\n",
    "import scipy.optimize as opt\n",
    "\n",
    "xroot_true= 0.38019172823418784\n",
    "Tolx = 10.0**-5\n",
    "Toly = 10.0**-5\n",
    "\n",
    "def f1(x):\n",
    "    return np.exp(-5*(x**2))-x**(3/4)+np.sin(4*x)-1\n",
    "\n",
    "x1 = 0.2\n",
    "x0 = 0.55\n",
    "x2pre = 0.0\n",
    "x2array = []\n",
    "eps_array = []\n",
    "\n",
    "iter = 0\n",
    "\n",
    "while 1:\n",
    "    x2 = x1-(f1(x1)*(x0-x1)/(f1(x0)-f1(x1)))\n",
    "    if np.abs(x2-x2pre) <= Tolx:\n",
    "        break\n",
    "    if np.abs(f1(x2))<=Toly:\n",
    "        break\n",
    "    else:\n",
    "        x0=x1\n",
    "        x1=x2\n",
    "    iter += 1\n",
    "    x2pre = x2\n",
    "    x2array= np.append(x2array,x2)\n",
    "\n",
    "print('Numero de iteraciones= ',iter)\n",
    "print('Raiz =', x2)\n",
    "\n",
    "xroot_est = opt.fsolve(f1,x1)\n",
    "print('Raiz scipy= ',xroot_est)\n",
    "\n",
    "eps_array = np.abs(x2array - xroot_true)\n",
    "r = (np.log(x2array[3]/x2array[2]))/\n",
    "print(eps_array)"
   ]
  }
 ],
 "metadata": {
  "kernelspec": {
   "display_name": "Python 3",
   "language": "python",
   "name": "python3"
  },
  "language_info": {
   "codemirror_mode": {
    "name": "ipython",
    "version": 3
   },
   "file_extension": ".py",
   "mimetype": "text/x-python",
   "name": "python",
   "nbconvert_exporter": "python",
   "pygments_lexer": "ipython3",
   "version": "3.7.3"
  }
 },
 "nbformat": 4,
 "nbformat_minor": 2
}
