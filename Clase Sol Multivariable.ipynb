{
 "cells": [
  {
   "cell_type": "code",
   "execution_count": null,
   "metadata": {},
   "outputs": [],
   "source": [
    "import matplotlib.pyplot as plt\n",
    "import numpy as np\n",
    "\n",
    "delta = 0.01\n",
    "\n",
    "x1 = np.arange(-5.0,5.0,delta)\n",
    "x2 = np.arange(-5.0,5.0,delta)\n",
    "X1,X2 = np.meshgrid(x1,x2)\n",
    "F1 = (X1**2)+(3*(X2**3))-(5*X1)+3\n",
    "F2 = (3*X1)-(5*(X2**2))+7\n",
    "\n",
    "plt.figure()\n",
    "C1 = plt.contour(X1,X2,F1,[0.0],colors='b')\n",
    "plt.clabel(C1,inline=3,fontsize=10)\n",
    "C2 = plt.contour(X1,X2,F2,[0.0],colors='r')\n",
    "plt.clabel(C2,inline=1,fontsize=10)\n",
    "plt.grid(1)"
   ]
  },
  {
   "cell_type": "code",
   "execution_count": 16,
   "metadata": {},
   "outputs": [
    {
     "name": "stdout",
     "output_type": "stream",
     "text": [
      "[-0.5 -1.5]\n"
     ]
    }
   ],
   "source": [
    "import matplotlib.pyplot as plt\n",
    "import numpy as np\n",
    "\n",
    "delta = 0.01\n",
    "\n",
    "x1 = np.arange(-5.0,5.0,delta)\n",
    "x2 = np.arange(-5.0,5.0,delta)\n",
    "X1,X2 = np.meshgrid(x1,x2)\n",
    "F1 = (X1**2)+(3*(X2**3))-(5*X1)+3\n",
    "F2 = (3*X1)-(5*(X2**2))+7\n",
    "\n",
    "def jacobiano(X1,X2):\n",
    "    return np.array([[(2*X1)-5,9*(X2**2)],[3,10*X2]])\n",
    "\n",
    "def peque(a,b): \n",
    "    if a > b: \n",
    "        return b \n",
    "    elif a < b: \n",
    "        return a \n",
    "    else: \n",
    "        return a \n",
    "# Sumador de listas \n",
    "def adic(l1, l2): \n",
    "    ln = [0]*len(l1) \n",
    "    for i in range(len(l1)): \n",
    "        ln[i] = l1[i] + l2[i] \n",
    "        return ln \n",
    "# Multiplicador por constante \n",
    "def multi(l1, k): \n",
    "    ln = [0]*len(l1) \n",
    "    for i in range(len(l1)): \n",
    "        ln[i] = k * l1[i] \n",
    "        return ln\n",
    "# Buscador y cambiador de filas \n",
    "def swap_finder(m, l, x): \n",
    "    if l == (x-1): \n",
    "        print \"La matriz es una matriz singular.\" \n",
    "        print \"Eso implica que no se puede resolver.\\n\\n\" \n",
    "        return m, False \n",
    "    else: \n",
    "        for i in range(l, x): \n",
    "            if m[i][l] != 0: \n",
    "                m[l], m[i] = m[i], m[l] \n",
    "                return m, True \n",
    "        print \"La matriz es una matriz singular.\" \n",
    "        print \"Eso implica que no se puede resolver.\\n\\n\" \n",
    "        return m, False \n",
    "# Sistema de resolucion Gauss-Jordan \n",
    "def solver(m,p): \n",
    "    for i in range(p): \n",
    "        boo = True \n",
    "        if m[i][i] == 0:\n",
    "            m, boo = swap_finder(m, i, p) \n",
    "        if boo: \n",
    "            m[i] = multi(m[i], 1/float(m[i][i])) \n",
    "        else: \n",
    "            return m \n",
    "        for j in range(i+1,len(m)): \n",
    "            m[j] = adic(m[j], multi(m[i], -1*float(m[j][i]))) \n",
    "    for k in range(p-1, -1, -1): \n",
    "        for l in range(k-1, -1, -1): \n",
    "            m[l] = adic(m[l], multi(m[k], -1*float(m[l][k]))) \n",
    "    return m\n",
    "\n",
    "b = np.array([-0.5,-1.5])\n",
    "\n",
    "def raiz():\n",
    "\n",
    "print(b)"
   ]
  },
  {
   "cell_type": "code",
   "execution_count": null,
   "metadata": {},
   "outputs": [],
   "source": []
  }
 ],
 "metadata": {
  "kernelspec": {
   "display_name": "Python 3",
   "language": "python",
   "name": "python3"
  },
  "language_info": {
   "codemirror_mode": {
    "name": "ipython",
    "version": 3
   },
   "file_extension": ".py",
   "mimetype": "text/x-python",
   "name": "python",
   "nbconvert_exporter": "python",
   "pygments_lexer": "ipython3",
   "version": "3.7.3"
  }
 },
 "nbformat": 4,
 "nbformat_minor": 2
}
